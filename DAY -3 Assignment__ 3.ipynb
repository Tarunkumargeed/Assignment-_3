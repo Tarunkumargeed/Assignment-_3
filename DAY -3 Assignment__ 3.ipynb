{
 "cells": [
  {
   "cell_type": "markdown",
   "metadata": {},
   "source": [
    "# Q-->1:Create a numpy array starting from 2 till 50 with a stepsize of 3.\n"
   ]
  },
  {
   "cell_type": "code",
   "execution_count": 2,
   "metadata": {},
   "outputs": [
    {
     "data": {
      "text/plain": [
       "array([ 2,  5,  8, 11, 14, 17, 20, 23, 26, 29, 32, 35, 38, 41, 44, 47, 50])"
      ]
     },
     "execution_count": 2,
     "metadata": {},
     "output_type": "execute_result"
    }
   ],
   "source": [
    "import numpy as np\n",
    "# numpy .arange ( start, end , steps)\n",
    "np.arange(2,51,3)"
   ]
  },
  {
   "cell_type": "markdown",
   "metadata": {},
   "source": [
    "# Q-->2: Accept two lists of 5 elements each from the user. Convert them to numpy arrays. Concatenate these arrays and print it. Also sort these arrays and print it.\n"
   ]
  },
  {
   "cell_type": "code",
   "execution_count": 3,
   "metadata": {},
   "outputs": [
    {
     "name": "stdout",
     "output_type": "stream",
     "text": [
      "1\n",
      "3\n",
      "5\n",
      "7\n",
      "8\n",
      "9\n",
      "12\n",
      "3\n",
      "4\n",
      "54\n",
      "[1, 3, 5, 7, 8]\n",
      "[9, 12, 3, 4, 54]\n",
      "[ 1  3  5  7  8  9 12  3  4 54]\n",
      "[ 1  3  3  4  5  7  8  9 12 54]\n"
     ]
    }
   ],
   "source": [
    "import numpy as np\n",
    "#two lists of 5 elements each taken  from user\n",
    "\n",
    "lst_1=[]\n",
    "lst_2=[]\n",
    "#Given 5 elements to accept for each list from user\n",
    "for i in range(5):\n",
    "    #Accepting 5 elements for lst_1\n",
    "    n1=int(input())\n",
    "    #Adding the user input to lst_1\n",
    "    lst_1.append(n1)\n",
    "for j in range(5):\n",
    "    #Accepting 5 elements for lst_2\n",
    "    n2=int(input())\n",
    "    #Adding the user input to lst_2\n",
    "    lst_2.append(n2)\n",
    "#Displaying the lists\n",
    "print(lst_1)\n",
    "print(lst_2)\n",
    "\n",
    "#Converting list into numpy arrrays\n",
    "array1=np.array(lst_1)\n",
    "array2=np.array(lst_2)\n",
    "\n",
    "#Concatenating arrays\n",
    "array3=np.concatenate((array1,array2))\n",
    "print(array3)\n",
    "#Sorting arrays\n",
    "print(np.sort(array3))"
   ]
  },
  {
   "cell_type": "markdown",
   "metadata": {},
   "source": [
    "# Q--> 3:Write a code snippet to find the dimensions of a ndarray and its size.\n"
   ]
  },
  {
   "cell_type": "code",
   "execution_count": 6,
   "metadata": {},
   "outputs": [
    {
     "name": "stdout",
     "output_type": "stream",
     "text": [
      "No. of dimensions:  2\n",
      "Shape of array:  (2, 4)\n",
      "Size of array:  8\n"
     ]
    }
   ],
   "source": [
    "import numpy as np\n",
    " \n",
    "# Creating array object\n",
    "arr = np.array( [[ 19, 22, 13, 87],\n",
    "                 [ 42, 45, 34, 31]] )\n",
    "\n",
    "# Printing array dimensions\n",
    "print(\"No. of dimensions: \", arr.ndim)\n",
    " \n",
    "# Printing shape of array\n",
    "print(\"Shape of array: \", arr.shape)\n",
    " \n",
    "# Printing size (total number of elements) of array\n",
    "print(\"Size of array: \", arr.size)"
   ]
  },
  {
   "cell_type": "markdown",
   "metadata": {},
   "source": [
    "# Q -->4: Convert a 1D array into a 2D array with the help of a code snippet Hint: np.newaxis, np.expand_dims\n"
   ]
  },
  {
   "cell_type": "code",
   "execution_count": 7,
   "metadata": {},
   "outputs": [
    {
     "name": "stdout",
     "output_type": "stream",
     "text": [
      "65\n",
      "Test 1D array (shape) : (65,)\n",
      "Test 2D array for row is : (1, 65)\n",
      "Test 2D array for column is : (65, 1)\n"
     ]
    }
   ],
   "source": [
    "import numpy as np\n",
    "\n",
    "arr = np.arange(int(input()))\n",
    "print(\"Test 1D array (shape) :\",arr.shape)\n",
    "\n",
    "two_d_array_row = arr[np.newaxis]\n",
    "print(\"Test 2D array for row is :\",two_d_array_row.shape)\n",
    "\n",
    "two_d_array_column = arr[:, np.newaxis]\n",
    "print(\"Test 2D array for column is :\",two_d_array_column.shape)\n"
   ]
  },
  {
   "cell_type": "markdown",
   "metadata": {},
   "source": [
    "# Q-->5: Consider two square numpy arrays. Stack them vertically and horizontally. Hint: Use vstack(), hstack()\n"
   ]
  },
  {
   "cell_type": "code",
   "execution_count": 8,
   "metadata": {},
   "outputs": [
    {
     "name": "stdout",
     "output_type": "stream",
     "text": [
      "Horizontally stacked:\n",
      "[[  2   6   8  77  56  87]\n",
      " [  4  36  64  11 121  81]]\n",
      "--------------------\n",
      "Vertically stacked\n",
      "[[  2   6   8]\n",
      " [  4  36  64]\n",
      " [ 77  56  87]\n",
      " [ 11 121  81]]\n",
      "--------------------\n"
     ]
    }
   ],
   "source": [
    "import numpy as np\n",
    "array1 = np.array([[2, 6, 8], [4, 36, 64]])\n",
    "array2 = np.array([[77, 56, 87], [11, 121, 81]])\n",
    " \n",
    "# Stack arrays in sequence horizontally\n",
    "\n",
    "print(\"Horizontally stacked:\")\n",
    "arrayH = np.hstack((array1, array2))\n",
    "print(arrayH)\n",
    " \n",
    "print(\"-\" * 20)\n",
    " \n",
    "# Stack arrays in sequence vertically \n",
    "\n",
    "print(\"Vertically stacked\")\n",
    "arrayV = np.vstack((array1, array2))\n",
    "print(arrayV)\n",
    " \n",
    "print(\"-\" * 20)"
   ]
  },
  {
   "cell_type": "markdown",
   "metadata": {},
   "source": [
    "# Q -->6:Write a program to get unique items and counts of unique items\n"
   ]
  },
  {
   "cell_type": "code",
   "execution_count": 9,
   "metadata": {},
   "outputs": [
    {
     "name": "stdout",
     "output_type": "stream",
     "text": [
      "[[ 2  3]\n",
      " [ 3  3]\n",
      " [ 4  4]\n",
      " [ 5  2]\n",
      " [ 6  3]\n",
      " [ 7  5]\n",
      " [ 8  3]\n",
      " [ 9  2]\n",
      " [89  1]]\n"
     ]
    }
   ],
   "source": [
    "import numpy as np\n",
    "arr=np.array([2,3,4,5,6,7,89,2,3,4,5,6,7,8,9,2,3,4,4,6,7,7,7,8,8,9,])\n",
    "\n",
    "unique,counts=np.unique(arr,return_counts=True)\n",
    "arr=np.asarray((unique,counts)).T\n",
    "print(arr)"
   ]
  },
  {
   "cell_type": "code",
   "execution_count": null,
   "metadata": {},
   "outputs": [],
   "source": []
  }
 ],
 "metadata": {
  "kernelspec": {
   "display_name": "Python 3",
   "language": "python",
   "name": "python3"
  },
  "language_info": {
   "codemirror_mode": {
    "name": "ipython",
    "version": 3
   },
   "file_extension": ".py",
   "mimetype": "text/x-python",
   "name": "python",
   "nbconvert_exporter": "python",
   "pygments_lexer": "ipython3",
   "version": "3.8.3"
  }
 },
 "nbformat": 4,
 "nbformat_minor": 4
}
